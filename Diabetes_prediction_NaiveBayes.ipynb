{
  "metadata": {
    "kernelspec": {
      "language": "python",
      "display_name": "Python 3",
      "name": "python3"
    },
    "language_info": {
      "name": "python",
      "version": "3.10.16",
      "mimetype": "text/x-python",
      "codemirror_mode": {
        "name": "ipython",
        "version": 3
      },
      "pygments_lexer": "ipython3",
      "nbconvert_exporter": "python",
      "file_extension": ".py"
    },
    "kaggle": {
      "accelerator": "tpu1vmV38",
      "dataSources": [
        {
          "sourceId": 11120427,
          "sourceType": "datasetVersion",
          "datasetId": 6934503
        }
      ],
      "dockerImageVersionId": 31011,
      "isInternetEnabled": true,
      "language": "python",
      "sourceType": "notebook",
      "isGpuEnabled": false
    },
    "colab": {
      "name": "Diabetes prediction_NaiveBayes",
      "provenance": []
    }
  },
  "nbformat_minor": 0,
  "nbformat": 4,
  "cells": [
    {
      "source": [
        "# IMPORTANT: RUN THIS CELL IN ORDER TO IMPORT YOUR KAGGLE DATA SOURCES,\n",
        "# THEN FEEL FREE TO DELETE THIS CELL.\n",
        "# NOTE: THIS NOTEBOOK ENVIRONMENT DIFFERS FROM KAGGLE'S PYTHON\n",
        "# ENVIRONMENT SO THERE MAY BE MISSING LIBRARIES USED BY YOUR\n",
        "# NOTEBOOK.\n",
        "import kagglehub\n",
        "marshalpatel3558_diabetes_prediction_dataset_path = kagglehub.dataset_download('marshalpatel3558/diabetes-prediction-dataset')\n",
        "\n",
        "print('Data source import complete.')\n"
      ],
      "metadata": {
        "id": "45xZtgcRSmDn"
      },
      "cell_type": "code",
      "outputs": [],
      "execution_count": null
    },
    {
      "cell_type": "markdown",
      "source": [
        "# **Adout Dataset**"
      ],
      "metadata": {
        "id": "YydQhvCUSmDo"
      }
    },
    {
      "cell_type": "markdown",
      "source": [
        "The provided dataset, named diabetes_dataset.csv, contains information related to diabetes risk factors and associated health metrics. Below is a detailed description of the dataset"
      ],
      "metadata": {
        "id": "1B_pj20ASmDq"
      }
    },
    {
      "cell_type": "code",
      "source": [
        "import requests\n",
        "url = \"https://storage.googleapis.com/kaggle-datasets-images/3102947/5344155/d4f2d9d63736fff7b6ba10f73774752e/dataset-card.png?t=2023-04-08-06-42-24\"\n",
        "filename = \"my_image.png\"\n",
        "\n",
        "with open(filename, 'wb') as f:\n",
        "    f.write(requests.get(url).content)\n"
      ],
      "metadata": {
        "trusted": true,
        "execution": {
          "iopub.status.busy": "2025-05-09T20:45:14.62606Z",
          "iopub.execute_input": "2025-05-09T20:45:14.626372Z",
          "iopub.status.idle": "2025-05-09T20:45:15.669211Z",
          "shell.execute_reply.started": "2025-05-09T20:45:14.62635Z",
          "shell.execute_reply": "2025-05-09T20:45:15.664891Z"
        },
        "id": "NODVO03JSmDq"
      },
      "outputs": [],
      "execution_count": null
    },
    {
      "cell_type": "code",
      "source": [
        "from IPython.display import Image, display\n",
        "display(Image(filename=\"my_image.png\"))\n"
      ],
      "metadata": {
        "trusted": true,
        "execution": {
          "iopub.status.busy": "2025-05-09T20:44:40.899484Z",
          "iopub.execute_input": "2025-05-09T20:44:40.899734Z",
          "iopub.status.idle": "2025-05-09T20:44:40.921414Z",
          "shell.execute_reply.started": "2025-05-09T20:44:40.899709Z",
          "shell.execute_reply": "2025-05-09T20:44:40.915952Z"
        },
        "id": "ndaJcz-2SmDr"
      },
      "outputs": [],
      "execution_count": null
    },
    {
      "cell_type": "markdown",
      "source": [
        "# **Importing Libraries**"
      ],
      "metadata": {
        "id": "6qA5SGc5SmDs"
      }
    },
    {
      "cell_type": "code",
      "source": [
        "import numpy as np\n",
        "import pandas as pd\n",
        "import matplotlib.pyplot as plt\n",
        "import seaborn as sns\n",
        "from sklearn.model_selection import train_test_split, GridSearchCV\n",
        "from sklearn.preprocessing import StandardScaler\n",
        "from sklearn.naive_bayes import GaussianNB\n",
        "from sklearn.metrics import accuracy_score ,classification_report\n",
        "\n"
      ],
      "metadata": {
        "_uuid": "8f2839f25d086af736a60e9eeb907d3b93b6e0e5",
        "_cell_guid": "b1076dfc-b9ad-4769-8c92-a6c4dae69d19",
        "trusted": true,
        "execution": {
          "iopub.status.busy": "2025-05-09T20:44:40.922996Z",
          "iopub.execute_input": "2025-05-09T20:44:40.923227Z",
          "iopub.status.idle": "2025-05-09T20:44:40.932727Z",
          "shell.execute_reply.started": "2025-05-09T20:44:40.923206Z",
          "shell.execute_reply": "2025-05-09T20:44:40.92741Z"
        },
        "id": "-tl1ZdSSSmDs"
      },
      "outputs": [],
      "execution_count": null
    },
    {
      "cell_type": "markdown",
      "source": [
        "# **Load dataset**"
      ],
      "metadata": {
        "id": "r7jYbHcHSmDt"
      }
    },
    {
      "cell_type": "code",
      "source": [
        "df = pd.read_csv('/kaggle/input/diabetes-prediction-dataset/diabetes_dataset.csv')"
      ],
      "metadata": {
        "trusted": true,
        "execution": {
          "iopub.status.busy": "2025-05-09T20:44:40.935092Z",
          "iopub.execute_input": "2025-05-09T20:44:40.935375Z",
          "iopub.status.idle": "2025-05-09T20:44:40.970233Z",
          "shell.execute_reply.started": "2025-05-09T20:44:40.935353Z",
          "shell.execute_reply": "2025-05-09T20:44:40.965021Z"
        },
        "id": "PpnnhipYSmDt"
      },
      "outputs": [],
      "execution_count": null
    },
    {
      "cell_type": "code",
      "source": [
        "df.head()"
      ],
      "metadata": {
        "trusted": true,
        "execution": {
          "iopub.status.busy": "2025-05-09T20:44:40.972152Z",
          "iopub.execute_input": "2025-05-09T20:44:40.972389Z",
          "iopub.status.idle": "2025-05-09T20:44:40.997113Z",
          "shell.execute_reply.started": "2025-05-09T20:44:40.972368Z",
          "shell.execute_reply": "2025-05-09T20:44:40.99381Z"
        },
        "id": "60VSCuegSmDt"
      },
      "outputs": [],
      "execution_count": null
    },
    {
      "cell_type": "markdown",
      "source": [
        "# **EDA**"
      ],
      "metadata": {
        "id": "O5lgoNalSmDu"
      }
    },
    {
      "cell_type": "code",
      "source": [
        "df.describe()"
      ],
      "metadata": {
        "trusted": true,
        "execution": {
          "iopub.status.busy": "2025-05-09T20:44:40.997887Z",
          "iopub.execute_input": "2025-05-09T20:44:41.000213Z",
          "iopub.status.idle": "2025-05-09T20:44:41.050183Z",
          "shell.execute_reply.started": "2025-05-09T20:44:41.00019Z",
          "shell.execute_reply": "2025-05-09T20:44:41.044952Z"
        },
        "id": "X8DFddO1SmDu"
      },
      "outputs": [],
      "execution_count": null
    },
    {
      "cell_type": "code",
      "source": [
        "df.describe(include = \"object\")"
      ],
      "metadata": {
        "trusted": true,
        "execution": {
          "iopub.status.busy": "2025-05-09T20:44:41.052527Z",
          "iopub.execute_input": "2025-05-09T20:44:41.052728Z",
          "iopub.status.idle": "2025-05-09T20:44:41.078665Z",
          "shell.execute_reply.started": "2025-05-09T20:44:41.05271Z",
          "shell.execute_reply": "2025-05-09T20:44:41.074018Z"
        },
        "id": "jo2PQfE2SmDu"
      },
      "outputs": [],
      "execution_count": null
    },
    {
      "cell_type": "code",
      "source": [
        "df.info()"
      ],
      "metadata": {
        "trusted": true,
        "execution": {
          "iopub.status.busy": "2025-05-09T20:44:41.080342Z",
          "iopub.execute_input": "2025-05-09T20:44:41.080551Z",
          "iopub.status.idle": "2025-05-09T20:44:41.098741Z",
          "shell.execute_reply.started": "2025-05-09T20:44:41.080531Z",
          "shell.execute_reply": "2025-05-09T20:44:41.095019Z"
        },
        "id": "sqcg9NmGSmDu"
      },
      "outputs": [],
      "execution_count": null
    },
    {
      "cell_type": "code",
      "source": [
        "df.shape"
      ],
      "metadata": {
        "trusted": true,
        "execution": {
          "iopub.status.busy": "2025-05-09T20:44:41.100939Z",
          "iopub.execute_input": "2025-05-09T20:44:41.101179Z",
          "iopub.status.idle": "2025-05-09T20:44:41.113196Z",
          "shell.execute_reply.started": "2025-05-09T20:44:41.101158Z",
          "shell.execute_reply": "2025-05-09T20:44:41.108806Z"
        },
        "id": "AhiDBPJeSmDu"
      },
      "outputs": [],
      "execution_count": null
    },
    {
      "cell_type": "code",
      "source": [
        "df.isnull().sum()"
      ],
      "metadata": {
        "trusted": true,
        "execution": {
          "iopub.status.busy": "2025-05-09T20:44:41.114141Z",
          "iopub.execute_input": "2025-05-09T20:44:41.114334Z",
          "iopub.status.idle": "2025-05-09T20:44:41.132626Z",
          "shell.execute_reply.started": "2025-05-09T20:44:41.114315Z",
          "shell.execute_reply": "2025-05-09T20:44:41.12731Z"
        },
        "id": "hXuxiby6SmDu"
      },
      "outputs": [],
      "execution_count": null
    },
    {
      "cell_type": "code",
      "source": [
        "df.duplicated().sum()"
      ],
      "metadata": {
        "trusted": true,
        "execution": {
          "iopub.status.busy": "2025-05-09T20:44:41.134444Z",
          "iopub.execute_input": "2025-05-09T20:44:41.134653Z",
          "iopub.status.idle": "2025-05-09T20:44:41.154899Z",
          "shell.execute_reply.started": "2025-05-09T20:44:41.134634Z",
          "shell.execute_reply": "2025-05-09T20:44:41.149321Z"
        },
        "id": "eujWQAMMSmDv"
      },
      "outputs": [],
      "execution_count": null
    },
    {
      "cell_type": "code",
      "source": [
        "df = df.drop('Alcohol_Consumption', axis=1)"
      ],
      "metadata": {
        "trusted": true,
        "execution": {
          "iopub.status.busy": "2025-05-09T20:44:41.1565Z",
          "iopub.execute_input": "2025-05-09T20:44:41.156719Z",
          "iopub.status.idle": "2025-05-09T20:44:41.167128Z",
          "shell.execute_reply.started": "2025-05-09T20:44:41.156699Z",
          "shell.execute_reply": "2025-05-09T20:44:41.161547Z"
        },
        "id": "wG305FT3SmDv"
      },
      "outputs": [],
      "execution_count": null
    },
    {
      "cell_type": "code",
      "source": [
        "df = df.drop(columns=['Unnamed: 0'], axis=1)"
      ],
      "metadata": {
        "trusted": true,
        "execution": {
          "iopub.status.busy": "2025-05-09T20:44:41.16883Z",
          "iopub.execute_input": "2025-05-09T20:44:41.169111Z",
          "iopub.status.idle": "2025-05-09T20:44:41.17988Z",
          "shell.execute_reply.started": "2025-05-09T20:44:41.169088Z",
          "shell.execute_reply": "2025-05-09T20:44:41.174446Z"
        },
        "id": "SPVsQb6mSmDv"
      },
      "outputs": [],
      "execution_count": null
    },
    {
      "cell_type": "markdown",
      "source": [
        "# **Target**"
      ],
      "metadata": {
        "id": "gT8g8w1vSmDv"
      }
    },
    {
      "cell_type": "code",
      "source": [
        "df['Diabetes'] = ((df['Fasting_Blood_Glucose'] >= 126) | (df['HbA1c'] > 6.5)).astype(int)"
      ],
      "metadata": {
        "trusted": true,
        "execution": {
          "iopub.status.busy": "2025-05-09T20:44:41.181481Z",
          "iopub.execute_input": "2025-05-09T20:44:41.181675Z",
          "iopub.status.idle": "2025-05-09T20:44:41.192513Z",
          "shell.execute_reply.started": "2025-05-09T20:44:41.181656Z",
          "shell.execute_reply": "2025-05-09T20:44:41.186956Z"
        },
        "id": "a1t1BgHLSmDv"
      },
      "outputs": [],
      "execution_count": null
    },
    {
      "cell_type": "code",
      "source": [
        "sns.countplot(x='Diabetes', data=df)\n",
        "plt.title(\"Target Class Distribution\")\n",
        "plt.show()"
      ],
      "metadata": {
        "trusted": true,
        "execution": {
          "iopub.status.busy": "2025-05-09T20:44:41.193861Z",
          "iopub.execute_input": "2025-05-09T20:44:41.194068Z",
          "iopub.status.idle": "2025-05-09T20:44:41.335775Z",
          "shell.execute_reply.started": "2025-05-09T20:44:41.194049Z",
          "shell.execute_reply": "2025-05-09T20:44:41.330842Z"
        },
        "id": "4g5UXIsMSmDv"
      },
      "outputs": [],
      "execution_count": null
    },
    {
      "cell_type": "markdown",
      "source": [
        "imbalanced data"
      ],
      "metadata": {
        "id": "ur3yCxU3SmDv"
      }
    },
    {
      "cell_type": "code",
      "source": [
        "plt.figure(figsize=(12, 8))\n",
        "sns.heatmap(df.select_dtypes(include='number').corr(), annot=True, cmap='coolwarm')\n",
        "plt.title(\"Feature Correlation (Numeric Only)\")\n",
        "plt.show()\n"
      ],
      "metadata": {
        "trusted": true,
        "execution": {
          "iopub.status.busy": "2025-05-09T20:44:41.337888Z",
          "iopub.execute_input": "2025-05-09T20:44:41.338316Z",
          "iopub.status.idle": "2025-05-09T20:44:42.182875Z",
          "shell.execute_reply.started": "2025-05-09T20:44:41.338292Z",
          "shell.execute_reply": "2025-05-09T20:44:42.178493Z"
        },
        "id": "8XJvRMWeSmDv"
      },
      "outputs": [],
      "execution_count": null
    },
    {
      "cell_type": "code",
      "source": [
        "df.hist(bins=20, figsize=(14, 10), color='skyblue', edgecolor='black')\n",
        "plt.tight_layout()\n",
        "plt.show()"
      ],
      "metadata": {
        "trusted": true,
        "execution": {
          "iopub.status.busy": "2025-05-09T20:44:42.184883Z",
          "iopub.execute_input": "2025-05-09T20:44:42.18532Z",
          "iopub.status.idle": "2025-05-09T20:44:44.448639Z",
          "shell.execute_reply.started": "2025-05-09T20:44:42.185298Z",
          "shell.execute_reply": "2025-05-09T20:44:44.443121Z"
        },
        "id": "KYgzQsh0SmDv"
      },
      "outputs": [],
      "execution_count": null
    },
    {
      "cell_type": "code",
      "source": [
        "glucose_by_sex = df.groupby('Sex')['Diabetes'].mean().reset_index()\n",
        "plt.figure(figsize=(8, 5))\n",
        "sns.barplot(x='Sex', y='Diabetes', data=glucose_by_sex)\n",
        "plt.title('Average Diabetes Rate by Sex')\n",
        "plt.xlabel('Sex')\n",
        "plt.ylabel('Average Diabetes Rate')\n",
        "plt.ylim(0, 1)\n",
        "plt.grid(True)\n",
        "plt.show()\n"
      ],
      "metadata": {
        "trusted": true,
        "execution": {
          "iopub.status.busy": "2025-05-09T20:44:44.450609Z",
          "iopub.execute_input": "2025-05-09T20:44:44.450839Z",
          "iopub.status.idle": "2025-05-09T20:44:44.586131Z",
          "shell.execute_reply.started": "2025-05-09T20:44:44.450817Z",
          "shell.execute_reply": "2025-05-09T20:44:44.581734Z"
        },
        "id": "lenGTE4pSmDw"
      },
      "outputs": [],
      "execution_count": null
    },
    {
      "cell_type": "code",
      "source": [
        "plt.figure(figsize=(8, 6))\n",
        "sns.boxplot(x='Diabetes', y='BMI', data=df, palette='Set2')\n",
        "plt.title('Relationship Between BMI and Diabetes')\n",
        "plt.xlabel('Diabetes')\n",
        "plt.ylabel('BMI')\n",
        "plt.tight_layout()\n",
        "plt.show()\n"
      ],
      "metadata": {
        "trusted": true,
        "execution": {
          "iopub.status.busy": "2025-05-09T20:44:44.587734Z",
          "iopub.execute_input": "2025-05-09T20:44:44.587987Z",
          "iopub.status.idle": "2025-05-09T20:44:44.759533Z",
          "shell.execute_reply.started": "2025-05-09T20:44:44.587962Z",
          "shell.execute_reply": "2025-05-09T20:44:44.755187Z"
        },
        "id": "wKd_q5UHSmDw"
      },
      "outputs": [],
      "execution_count": null
    },
    {
      "cell_type": "code",
      "source": [
        "plt.figure(figsize=(8, 6))\n",
        "sns.boxplot(x='Diabetes', y='Blood_Pressure_Systolic', data=df, palette='Set2')\n",
        "plt.title('Relationship Between Blood_Pressure_Systolic and Diabetes')\n",
        "plt.xlabel('Diabetes')\n",
        "plt.ylabel('Blood_Pressure_Systolic')\n",
        "plt.tight_layout()\n",
        "plt.show()\n"
      ],
      "metadata": {
        "trusted": true,
        "execution": {
          "iopub.status.busy": "2025-05-09T20:44:44.762155Z",
          "iopub.execute_input": "2025-05-09T20:44:44.762365Z",
          "iopub.status.idle": "2025-05-09T20:44:44.942621Z",
          "shell.execute_reply.started": "2025-05-09T20:44:44.762344Z",
          "shell.execute_reply": "2025-05-09T20:44:44.937233Z"
        },
        "id": "KnUlcsLwSmDw"
      },
      "outputs": [],
      "execution_count": null
    },
    {
      "cell_type": "code",
      "source": [
        "bins = range(0, 101, 10)\n",
        "labels = [f'{i}-{i+9}' for i in bins[:-1]]\n",
        "df['age_group'] = pd.cut(df['Age'], bins=bins, labels=labels, right=False)\n",
        "age_group_diabetes = df.groupby('age_group')['Diabetes'].mean().reset_index()\n",
        "plt.figure(figsize=(10, 6))\n",
        "sns.lineplot(x='age_group', y='Diabetes', data=age_group_diabetes, marker='o')\n",
        "plt.title('Diabetes Rate by Age Group')\n",
        "plt.xlabel('Age Group')\n",
        "plt.ylabel('Proportion with Diabetes')\n",
        "plt.ylim(0, 1)\n",
        "plt.grid(True)\n",
        "plt.show()\n"
      ],
      "metadata": {
        "trusted": true,
        "execution": {
          "iopub.status.busy": "2025-05-09T20:44:44.944547Z",
          "iopub.execute_input": "2025-05-09T20:44:44.944755Z",
          "iopub.status.idle": "2025-05-09T20:44:45.101396Z",
          "shell.execute_reply.started": "2025-05-09T20:44:44.944734Z",
          "shell.execute_reply": "2025-05-09T20:44:45.096122Z"
        },
        "id": "s7N_HWN6SmDw"
      },
      "outputs": [],
      "execution_count": null
    },
    {
      "cell_type": "markdown",
      "source": [
        "# **Modeling**"
      ],
      "metadata": {
        "id": "PTVNyFz1SmDw"
      }
    },
    {
      "cell_type": "code",
      "source": [
        "from sklearn.preprocessing import LabelEncoder\n",
        "label_encoder = LabelEncoder()\n",
        "\n",
        "df['Sex'] = label_encoder.fit_transform(df['Sex'])\n",
        "df['Ethnicity'] = label_encoder.fit_transform(df['Ethnicity'])\n",
        "df['Physical_Activity_Level'] = label_encoder.fit_transform(df['Physical_Activity_Level'])\n",
        "df['Smoking_Status'] = label_encoder.fit_transform(df['Smoking_Status'])"
      ],
      "metadata": {
        "trusted": true,
        "execution": {
          "iopub.status.busy": "2025-05-09T20:44:45.103372Z",
          "iopub.execute_input": "2025-05-09T20:44:45.103787Z",
          "iopub.status.idle": "2025-05-09T20:44:45.119902Z",
          "shell.execute_reply.started": "2025-05-09T20:44:45.103757Z",
          "shell.execute_reply": "2025-05-09T20:44:45.116363Z"
        },
        "id": "KnUSW-ZwSmDw"
      },
      "outputs": [],
      "execution_count": null
    },
    {
      "cell_type": "code",
      "source": [
        "df=df.drop('age_group', axis=1)"
      ],
      "metadata": {
        "trusted": true,
        "execution": {
          "iopub.status.busy": "2025-05-09T20:44:45.122695Z",
          "iopub.execute_input": "2025-05-09T20:44:45.12295Z",
          "iopub.status.idle": "2025-05-09T20:44:45.134913Z",
          "shell.execute_reply.started": "2025-05-09T20:44:45.122909Z",
          "shell.execute_reply": "2025-05-09T20:44:45.130376Z"
        },
        "id": "Mtpvt7iVSmDw"
      },
      "outputs": [],
      "execution_count": null
    },
    {
      "cell_type": "code",
      "source": [
        "X = df.drop('Diabetes', axis=1)\n",
        "y = df['Diabetes']"
      ],
      "metadata": {
        "trusted": true,
        "execution": {
          "iopub.status.busy": "2025-05-09T20:44:45.135604Z",
          "iopub.execute_input": "2025-05-09T20:44:45.135803Z",
          "iopub.status.idle": "2025-05-09T20:44:45.14699Z",
          "shell.execute_reply.started": "2025-05-09T20:44:45.135783Z",
          "shell.execute_reply": "2025-05-09T20:44:45.142602Z"
        },
        "id": "_zcqod8gSmDw"
      },
      "outputs": [],
      "execution_count": null
    },
    {
      "cell_type": "code",
      "source": [
        "X_train, X_test, y_train, y_test = train_test_split(X, y, test_size=0.2, random_state=42)"
      ],
      "metadata": {
        "trusted": true,
        "execution": {
          "iopub.status.busy": "2025-05-09T20:44:45.148692Z",
          "iopub.execute_input": "2025-05-09T20:44:45.148945Z",
          "iopub.status.idle": "2025-05-09T20:44:45.163077Z",
          "shell.execute_reply.started": "2025-05-09T20:44:45.148905Z",
          "shell.execute_reply": "2025-05-09T20:44:45.157781Z"
        },
        "id": "qrWl2itASmDx"
      },
      "outputs": [],
      "execution_count": null
    },
    {
      "cell_type": "code",
      "source": [
        "scaler = StandardScaler()\n",
        "X_train_scaled = scaler.fit_transform(X_train)\n",
        "X_test_scaled = scaler.transform(X_test)"
      ],
      "metadata": {
        "trusted": true,
        "execution": {
          "iopub.status.busy": "2025-05-09T20:44:45.16479Z",
          "iopub.execute_input": "2025-05-09T20:44:45.165059Z",
          "iopub.status.idle": "2025-05-09T20:44:45.182548Z",
          "shell.execute_reply.started": "2025-05-09T20:44:45.165039Z",
          "shell.execute_reply": "2025-05-09T20:44:45.177188Z"
        },
        "id": "cBYQel9vSmDx"
      },
      "outputs": [],
      "execution_count": null
    },
    {
      "cell_type": "code",
      "source": [
        "model = GaussianNB()\n",
        "model.fit(X_train_scaled, y_train)"
      ],
      "metadata": {
        "trusted": true,
        "execution": {
          "iopub.status.busy": "2025-05-09T20:44:45.184506Z",
          "iopub.execute_input": "2025-05-09T20:44:45.184704Z",
          "iopub.status.idle": "2025-05-09T20:44:45.208773Z",
          "shell.execute_reply.started": "2025-05-09T20:44:45.184685Z",
          "shell.execute_reply": "2025-05-09T20:44:45.203673Z"
        },
        "id": "6r04pu1pSmDx"
      },
      "outputs": [],
      "execution_count": null
    },
    {
      "cell_type": "code",
      "source": [
        "y_pred = model.predict(X_test_scaled)"
      ],
      "metadata": {
        "trusted": true,
        "execution": {
          "iopub.status.busy": "2025-05-09T20:44:45.211098Z",
          "iopub.execute_input": "2025-05-09T20:44:45.211299Z",
          "iopub.status.idle": "2025-05-09T20:44:45.223363Z",
          "shell.execute_reply.started": "2025-05-09T20:44:45.21128Z",
          "shell.execute_reply": "2025-05-09T20:44:45.217596Z"
        },
        "id": "W8mVoQ0tSmDx"
      },
      "outputs": [],
      "execution_count": null
    },
    {
      "cell_type": "code",
      "source": [
        "print(\"Accuracy:\", accuracy_score(y_test, y_pred))\n",
        "print(\"Classification Report:\")\n",
        "print(classification_report(y_test, y_pred))\n"
      ],
      "metadata": {
        "trusted": true,
        "execution": {
          "iopub.status.busy": "2025-05-09T20:44:45.225186Z",
          "iopub.execute_input": "2025-05-09T20:44:45.225379Z",
          "iopub.status.idle": "2025-05-09T20:44:45.245704Z",
          "shell.execute_reply.started": "2025-05-09T20:44:45.22536Z",
          "shell.execute_reply": "2025-05-09T20:44:45.241804Z"
        },
        "id": "FLlpwqDwSmDx"
      },
      "outputs": [],
      "execution_count": null
    },
    {
      "cell_type": "code",
      "source": [],
      "metadata": {
        "trusted": true,
        "id": "VIM2eTwmSmDx"
      },
      "outputs": [],
      "execution_count": null
    },
    {
      "cell_type": "markdown",
      "source": [
        "# **SMOTE**"
      ],
      "metadata": {
        "id": "NVG_O0c1SmD1"
      }
    },
    {
      "cell_type": "code",
      "source": [
        "from imblearn.over_sampling import SMOTE\n",
        "df_encoded = pd.get_dummies(df, drop_first=True)\n",
        "X = df.drop('Diabetes', axis=1)\n",
        "y = df['Diabetes']\n",
        "\n",
        "X_train, X_test, y_train, y_test = train_test_split(X, y, test_size=0.2, random_state=42)\n",
        "\n",
        "scaler = StandardScaler()\n",
        "X_train_scaled = scaler.fit_transform(X_train)\n",
        "X_test_scaled = scaler.transform(X_test)\n",
        "\n",
        "smote = SMOTE(random_state=42)\n",
        "X_train_resampled, y_train_resampled = smote.fit_resample(X_train_scaled, y_train)\n",
        "\n",
        "nb = GaussianNB()\n",
        "nb.fit(X_train_resampled, y_train_resampled)\n",
        "y_pred = nb.predict(X_test_scaled)\n",
        "\n",
        "print(\"Accuracy:\", accuracy_score(y_test, y_pred))\n",
        "print(\"Classification Report:\")\n",
        "print(classification_report(y_test, y_pred))\n"
      ],
      "metadata": {
        "trusted": true,
        "execution": {
          "iopub.status.busy": "2025-05-09T20:45:53.314833Z",
          "iopub.execute_input": "2025-05-09T20:45:53.31511Z",
          "iopub.status.idle": "2025-05-09T20:45:54.691624Z",
          "shell.execute_reply.started": "2025-05-09T20:45:53.315083Z",
          "shell.execute_reply": "2025-05-09T20:45:54.687115Z"
        },
        "id": "qPHW70n_SmD2"
      },
      "outputs": [],
      "execution_count": null
    },
    {
      "cell_type": "code",
      "source": [
        "! pip install imbalanced-learn"
      ],
      "metadata": {
        "trusted": true,
        "execution": {
          "iopub.status.busy": "2025-05-09T20:45:47.453005Z",
          "iopub.execute_input": "2025-05-09T20:45:47.453314Z",
          "iopub.status.idle": "2025-05-09T20:45:53.312285Z",
          "shell.execute_reply.started": "2025-05-09T20:45:47.453286Z",
          "shell.execute_reply": "2025-05-09T20:45:53.307516Z"
        },
        "id": "MZlHEXT3SmD2"
      },
      "outputs": [],
      "execution_count": null
    },
    {
      "cell_type": "code",
      "source": [],
      "metadata": {
        "trusted": true,
        "id": "A4ftwWseSmD2"
      },
      "outputs": [],
      "execution_count": null
    }
  ]
}